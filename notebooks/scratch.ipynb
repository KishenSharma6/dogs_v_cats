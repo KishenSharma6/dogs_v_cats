{
 "cells": [
  {
   "cell_type": "code",
   "execution_count": 1,
   "metadata": {},
   "outputs": [],
   "source": [
    "import torch\n",
    "import torch.nn as nn\n",
    "import torch.nn.functional as F\n",
    "\n",
    "import numpy as np"
   ]
  },
  {
   "cell_type": "code",
   "execution_count": 2,
   "metadata": {},
   "outputs": [
    {
     "data": {
      "text/plain": [
       "torch.Size([320])"
      ]
     },
     "execution_count": 2,
     "metadata": {},
     "output_type": "execute_result"
    }
   ],
   "source": [
    "preds = torch.rand(1,320).flatten()\n",
    "labels = torch.randint(0,2, (1,320)).flatten()\n",
    "preds.size()"
   ]
  },
  {
   "cell_type": "code",
   "execution_count": 3,
   "metadata": {},
   "outputs": [],
   "source": [
    "import os\n",
    "os.chdir(\"/home/kishen/documents/python_projects/dogs_v_cats/\")\n",
    "from src.models import train, accuracy\n",
    "from torch.utils.data import DataLoader, Dataset\n"
   ]
  },
  {
   "cell_type": "code",
   "execution_count": 4,
   "metadata": {},
   "outputs": [
    {
     "data": {
      "text/plain": [
       "{'prediction': tensor(0.9751), 'label': tensor(0)}"
      ]
     },
     "execution_count": 4,
     "metadata": {},
     "output_type": "execute_result"
    }
   ],
   "source": [
    "class Data(Dataset):\n",
    "    def __init__(self, preds, labels):\n",
    "        self.preds = preds\n",
    "        self.labels = labels\n",
    "\n",
    "    def __len__(self):\n",
    "        return len(self.labels)\n",
    "\n",
    "    def __getitem__(self, idx):\n",
    "        pred = self.preds[idx]\n",
    "        label = self.labels[idx]\n",
    "\n",
    "        return {\n",
    "            \"prediction\": pred,\n",
    "            \"label\": label\n",
    "        }\n",
    "\n",
    "data = Data(preds, labels)\n",
    "data.__getitem__(49)"
   ]
  },
  {
   "cell_type": "code",
   "execution_count": 5,
   "metadata": {},
   "outputs": [],
   "source": [
    "loader_params = {\"batch_size\": 32,\n",
    "                 \"shuffle\": True,\n",
    "                 \"num_workers\": 16}\n",
    "                 \n",
    "train_loader = DataLoader(data, **loader_params)"
   ]
  },
  {
   "cell_type": "code",
   "execution_count": 6,
   "metadata": {},
   "outputs": [
    {
     "name": "stdout",
     "output_type": "stream",
     "text": [
      "Truth: 49.375%\n"
     ]
    }
   ],
   "source": [
    "print(\"Truth: %s\" % (str(accuracy(preds, labels) * 100)) + \"%\")"
   ]
  },
  {
   "cell_type": "code",
   "execution_count": 13,
   "metadata": {},
   "outputs": [
    {
     "name": "stdout",
     "output_type": "stream",
     "text": [
      "0.5\n",
      "0.84375\n",
      "1.34375\n",
      "1.75\n",
      "2.1875\n",
      "2.65625\n",
      "3.28125\n",
      "3.8125\n",
      "4.3125\n",
      "4.9375\n",
      "Accuracy: 49.375\n",
      "[49.375]\n"
     ]
    }
   ],
   "source": [
    "epochs = 1\n",
    "epoch_acc = [0] * epochs\n",
    "\n",
    "for epoch in range(epochs):\n",
    "    correct = 0.00\n",
    "    for i, data in enumerate(train_loader):\n",
    "        preds, labels = data['prediction'], data['label']\n",
    "       \n",
    "        correct += accuracy(preds, labels)\n",
    "        print(correct)\n",
    "    \n",
    "    epoch_acc[epoch] = (correct) * 10\n",
    "    print(\"Accuracy: %s\" % (str(epoch_acc[epoch])))\n",
    "\n",
    "\n",
    "print(epoch_acc)"
   ]
  },
  {
   "cell_type": "code",
   "execution_count": 8,
   "metadata": {},
   "outputs": [
    {
     "data": {
      "text/plain": [
       "320"
      ]
     },
     "execution_count": 8,
     "metadata": {},
     "output_type": "execute_result"
    }
   ],
   "source": [
    "len(train_loader.dataset)"
   ]
  },
  {
   "cell_type": "code",
   "execution_count": null,
   "metadata": {},
   "outputs": [],
   "source": []
  }
 ],
 "metadata": {
  "kernelspec": {
   "display_name": "Python 3.8.14 ('cv')",
   "language": "python",
   "name": "python3"
  },
  "language_info": {
   "codemirror_mode": {
    "name": "ipython",
    "version": 3
   },
   "file_extension": ".py",
   "mimetype": "text/x-python",
   "name": "python",
   "nbconvert_exporter": "python",
   "pygments_lexer": "ipython3",
   "version": "3.8.14"
  },
  "orig_nbformat": 4,
  "vscode": {
   "interpreter": {
    "hash": "0efdc9225cbb9bc96da72a1f23582fb63f6516792b5242a2ab181a77bdbb4a26"
   }
  }
 },
 "nbformat": 4,
 "nbformat_minor": 2
}
