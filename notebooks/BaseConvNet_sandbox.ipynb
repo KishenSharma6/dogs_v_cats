{
 "cells": [
  {
   "cell_type": "code",
   "execution_count": 1,
   "metadata": {},
   "outputs": [],
   "source": [
    "import torch, torchvision\n",
    "import torchvision.transforms.functional as fn\n",
    "torch.manual_seed(0)\n",
    "\n",
    "import os\n",
    "import numpy as np\n",
    "import matplotlib.pyplot as plt"
   ]
  },
  {
   "cell_type": "code",
   "execution_count": 2,
   "metadata": {},
   "outputs": [],
   "source": [
    "#Update os\n",
    "path = \"/home/kishen/documents/python_projects/dogs_v_cats/\"\n",
    "os.chdir(path)\n",
    "from src.dataset import ImageDataset"
   ]
  },
  {
   "cell_type": "markdown",
   "metadata": {},
   "source": [
    "### Create small dataset\n",
    "Test if BaseConvNet model passes eye test"
   ]
  },
  {
   "cell_type": "code",
   "execution_count": 3,
   "metadata": {},
   "outputs": [],
   "source": [
    "#create 100 labels: cats = 0, dogs =1 \n",
    "labels  = np.zeros(100)\n",
    "labels[50:] = 1"
   ]
  },
  {
   "cell_type": "code",
   "execution_count": 5,
   "metadata": {},
   "outputs": [
    {
     "ename": "FileNotFoundError",
     "evalue": "[Errno 2] No such file or directory: '/home/kishen/documents/python_projects/dogs_v_cats/data/experiment/25.jpg'",
     "output_type": "error",
     "traceback": [
      "\u001b[0;31m---------------------------------------------------------------------------\u001b[0m",
      "\u001b[0;31mFileNotFoundError\u001b[0m                         Traceback (most recent call last)",
      "Cell \u001b[0;32mIn [5], line 14\u001b[0m\n\u001b[1;32m      8\u001b[0m training_data \u001b[38;5;241m=\u001b[39m ImageDataset(image_paths\u001b[38;5;241m=\u001b[39m  \u001b[38;5;124m\"\u001b[39m\u001b[38;5;124m/home/kishen/documents/python_projects/dogs_v_cats/data/experiment/\u001b[39m\u001b[38;5;124m\"\u001b[39m,\n\u001b[1;32m      9\u001b[0m                             targets\u001b[38;5;241m=\u001b[39mlabels)\n\u001b[1;32m     11\u001b[0m \u001b[38;5;66;03m#add augmetations to trainig_data\u001b[39;00m\n\u001b[1;32m     12\u001b[0m augmentations \u001b[38;5;241m=\u001b[39m torch\u001b[38;5;241m.\u001b[39mnn\u001b[38;5;241m.\u001b[39mSequential(\n\u001b[1;32m     13\u001b[0m     torchvision\u001b[38;5;241m.\u001b[39mtransforms\u001b[38;5;241m.\u001b[39mResize((\u001b[38;5;241m128\u001b[39m, \u001b[38;5;241m128\u001b[39m)),\n\u001b[0;32m---> 14\u001b[0m     torchvision\u001b[38;5;241m.\u001b[39mtransforms\u001b[38;5;241m.\u001b[39mNormalize(mean \u001b[38;5;241m=\u001b[39m \u001b[43mcalculate_mean\u001b[49m\u001b[43m(\u001b[49m\u001b[43mtraining_data\u001b[49m\u001b[43m)\u001b[49m,\n\u001b[1;32m     15\u001b[0m                                     std\u001b[38;5;241m=\u001b[39m calculate_std(training_data))\n\u001b[1;32m     16\u001b[0m )\n\u001b[1;32m     18\u001b[0m training_data\u001b[38;5;241m.\u001b[39maugmentations \u001b[38;5;241m=\u001b[39m augmentations\n",
      "File \u001b[0;32m~/documents/python_projects/dogs_v_cats/src/dataset.py:73\u001b[0m, in \u001b[0;36mcalculate_mean\u001b[0;34m(training_data)\u001b[0m\n\u001b[1;32m     71\u001b[0m mean \u001b[39m=\u001b[39m \u001b[39m0\u001b[39m\n\u001b[1;32m     72\u001b[0m \u001b[39mfor\u001b[39;00m i \u001b[39min\u001b[39;00m \u001b[39mrange\u001b[39m(\u001b[39mlen\u001b[39m(training_data\u001b[39m.\u001b[39mtargets)):\n\u001b[0;32m---> 73\u001b[0m     mean \u001b[39m+\u001b[39m\u001b[39m=\u001b[39m torch\u001b[39m.\u001b[39mmean(training_data\u001b[39m.\u001b[39;49m\u001b[39m__getitem__\u001b[39;49m(i)[\u001b[39m'\u001b[39m\u001b[39mimage\u001b[39m\u001b[39m'\u001b[39m], dim\u001b[39m=\u001b[39m [\u001b[39m1\u001b[39m,\u001b[39m2\u001b[39m])\n\u001b[1;32m     74\u001b[0m \u001b[39mreturn\u001b[39;00m mean\u001b[39m/\u001b[39m\u001b[39mlen\u001b[39m(training_data\u001b[39m.\u001b[39mtargets)\n",
      "File \u001b[0;32m~/documents/python_projects/dogs_v_cats/src/dataset.py:23\u001b[0m, in \u001b[0;36mImageDataset.__getitem__\u001b[0;34m(self, idx)\u001b[0m\n\u001b[1;32m     21\u001b[0m \u001b[39mdef\u001b[39;00m \u001b[39m__getitem__\u001b[39m(\u001b[39mself\u001b[39m, idx):\n\u001b[1;32m     22\u001b[0m     target \u001b[39m=\u001b[39m \u001b[39mself\u001b[39m\u001b[39m.\u001b[39mtargets[idx]\n\u001b[0;32m---> 23\u001b[0m     image \u001b[39m=\u001b[39m PIL\u001b[39m.\u001b[39;49mImage\u001b[39m.\u001b[39;49mopen(\u001b[39mself\u001b[39;49m\u001b[39m.\u001b[39;49mimage_paths \u001b[39m+\u001b[39;49m \u001b[39mstr\u001b[39;49m(idx) \u001b[39m+\u001b[39;49m \u001b[39m'\u001b[39;49m\u001b[39m.jpg\u001b[39;49m\u001b[39m'\u001b[39;49m)\n\u001b[1;32m     24\u001b[0m     \u001b[39m#image = fn.to_tensor(image)\u001b[39;00m\n\u001b[1;32m     25\u001b[0m     \u001b[39m#check for augmentations, apply changes to image if true\u001b[39;00m\n\u001b[1;32m     26\u001b[0m     \u001b[39mif\u001b[39;00m \u001b[39mself\u001b[39m\u001b[39m.\u001b[39maugmentations \u001b[39mis\u001b[39;00m \u001b[39mnot\u001b[39;00m \u001b[39mNone\u001b[39;00m:\n",
      "File \u001b[0;32m~/venvs/cv/lib/python3.8/site-packages/PIL/Image.py:3131\u001b[0m, in \u001b[0;36mopen\u001b[0;34m(fp, mode, formats)\u001b[0m\n\u001b[1;32m   3128\u001b[0m     filename \u001b[39m=\u001b[39m fp\n\u001b[1;32m   3130\u001b[0m \u001b[39mif\u001b[39;00m filename:\n\u001b[0;32m-> 3131\u001b[0m     fp \u001b[39m=\u001b[39m builtins\u001b[39m.\u001b[39;49mopen(filename, \u001b[39m\"\u001b[39;49m\u001b[39mrb\u001b[39;49m\u001b[39m\"\u001b[39;49m)\n\u001b[1;32m   3132\u001b[0m     exclusive_fp \u001b[39m=\u001b[39m \u001b[39mTrue\u001b[39;00m\n\u001b[1;32m   3134\u001b[0m \u001b[39mtry\u001b[39;00m:\n",
      "\u001b[0;31mFileNotFoundError\u001b[0m: [Errno 2] No such file or directory: '/home/kishen/documents/python_projects/dogs_v_cats/data/experiment/25.jpg'"
     ]
    }
   ],
   "source": [
    "#import experiment images\n",
    "path = \"/home/kishen/documents/python_projects/dogs_v_cats/\"\n",
    "os.chdir(path)\n",
    "\n",
    "from src.dataset import ImageDataset, calculate_mean, calculate_std\n",
    "\n",
    "#Build training dataset\n",
    "training_data = ImageDataset(image_paths=  \"/home/kishen/documents/python_projects/dogs_v_cats/data/experiment/\",\n",
    "                            targets=labels)\n",
    "\n",
    "#add augmetations to trainig_data\n",
    "augmentations = torch.nn.Sequential(\n",
    "    torchvision.transforms.Resize((128, 128)),\n",
    "    torchvision.transforms.Normalize(mean = calculate_mean(training_data),\n",
    "                                    std= calculate_std(training_data))\n",
    ")\n",
    "\n",
    "training_data.augmentations = augmentations"
   ]
  },
  {
   "cell_type": "code",
   "execution_count": 8,
   "metadata": {},
   "outputs": [
    {
     "ename": "FileNotFoundError",
     "evalue": "[Errno 2] No such file or directory: '/home/kishen/documents/python_projects/dogs_v_cats/data/experiment/25.jpg'",
     "output_type": "error",
     "traceback": [
      "\u001b[0;31m---------------------------------------------------------------------------\u001b[0m",
      "\u001b[0;31mFileNotFoundError\u001b[0m                         Traceback (most recent call last)",
      "Cell \u001b[0;32mIn [8], line 1\u001b[0m\n\u001b[0;32m----> 1\u001b[0m \u001b[43mtraining_data\u001b[49m\u001b[38;5;241;43m.\u001b[39;49m\u001b[38;5;21;43m__getitem__\u001b[39;49m\u001b[43m(\u001b[49m\u001b[38;5;241;43m25\u001b[39;49m\u001b[43m)\u001b[49m\n",
      "File \u001b[0;32m~/documents/python_projects/dogs_v_cats/src/dataset.py:23\u001b[0m, in \u001b[0;36mImageDataset.__getitem__\u001b[0;34m(self, idx)\u001b[0m\n\u001b[1;32m     21\u001b[0m \u001b[39mdef\u001b[39;00m \u001b[39m__getitem__\u001b[39m(\u001b[39mself\u001b[39m, idx):\n\u001b[1;32m     22\u001b[0m     target \u001b[39m=\u001b[39m \u001b[39mself\u001b[39m\u001b[39m.\u001b[39mtargets[idx]\n\u001b[0;32m---> 23\u001b[0m     image \u001b[39m=\u001b[39m PIL\u001b[39m.\u001b[39;49mImage\u001b[39m.\u001b[39;49mopen(\u001b[39mself\u001b[39;49m\u001b[39m.\u001b[39;49mimage_paths \u001b[39m+\u001b[39;49m \u001b[39mstr\u001b[39;49m(idx) \u001b[39m+\u001b[39;49m \u001b[39m'\u001b[39;49m\u001b[39m.jpg\u001b[39;49m\u001b[39m'\u001b[39;49m)\n\u001b[1;32m     24\u001b[0m     \u001b[39m#image = fn.to_tensor(image)\u001b[39;00m\n\u001b[1;32m     25\u001b[0m     \u001b[39m#check for augmentations, apply changes to image if true\u001b[39;00m\n\u001b[1;32m     26\u001b[0m     \u001b[39mif\u001b[39;00m \u001b[39mself\u001b[39m\u001b[39m.\u001b[39maugmentations \u001b[39mis\u001b[39;00m \u001b[39mnot\u001b[39;00m \u001b[39mNone\u001b[39;00m:\n",
      "File \u001b[0;32m~/venvs/cv/lib/python3.8/site-packages/PIL/Image.py:3131\u001b[0m, in \u001b[0;36mopen\u001b[0;34m(fp, mode, formats)\u001b[0m\n\u001b[1;32m   3128\u001b[0m     filename \u001b[39m=\u001b[39m fp\n\u001b[1;32m   3130\u001b[0m \u001b[39mif\u001b[39;00m filename:\n\u001b[0;32m-> 3131\u001b[0m     fp \u001b[39m=\u001b[39m builtins\u001b[39m.\u001b[39;49mopen(filename, \u001b[39m\"\u001b[39;49m\u001b[39mrb\u001b[39;49m\u001b[39m\"\u001b[39;49m)\n\u001b[1;32m   3132\u001b[0m     exclusive_fp \u001b[39m=\u001b[39m \u001b[39mTrue\u001b[39;00m\n\u001b[1;32m   3134\u001b[0m \u001b[39mtry\u001b[39;00m:\n",
      "\u001b[0;31mFileNotFoundError\u001b[0m: [Errno 2] No such file or directory: '/home/kishen/documents/python_projects/dogs_v_cats/data/experiment/25.jpg'"
     ]
    }
   ],
   "source": [
    "training_data.__getitem__(25)"
   ]
  },
  {
   "cell_type": "code",
   "execution_count": null,
   "metadata": {},
   "outputs": [],
   "source": []
  },
  {
   "cell_type": "code",
   "execution_count": null,
   "metadata": {},
   "outputs": [],
   "source": []
  },
  {
   "cell_type": "code",
   "execution_count": null,
   "metadata": {},
   "outputs": [],
   "source": []
  },
  {
   "cell_type": "code",
   "execution_count": null,
   "metadata": {},
   "outputs": [],
   "source": []
  },
  {
   "cell_type": "code",
   "execution_count": null,
   "metadata": {},
   "outputs": [],
   "source": []
  },
  {
   "cell_type": "code",
   "execution_count": null,
   "metadata": {},
   "outputs": [],
   "source": []
  }
 ],
 "metadata": {
  "kernelspec": {
   "display_name": "Python 3.8.14 ('cv')",
   "language": "python",
   "name": "python3"
  },
  "language_info": {
   "codemirror_mode": {
    "name": "ipython",
    "version": 3
   },
   "file_extension": ".py",
   "mimetype": "text/x-python",
   "name": "python",
   "nbconvert_exporter": "python",
   "pygments_lexer": "ipython3",
   "version": "3.8.14"
  },
  "orig_nbformat": 4,
  "vscode": {
   "interpreter": {
    "hash": "0efdc9225cbb9bc96da72a1f23582fb63f6516792b5242a2ab181a77bdbb4a26"
   }
  }
 },
 "nbformat": 4,
 "nbformat_minor": 2
}
