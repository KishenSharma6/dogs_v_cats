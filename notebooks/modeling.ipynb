{
 "cells": [
  {
   "cell_type": "code",
   "execution_count": 1,
   "metadata": {},
   "outputs": [],
   "source": [
    "import torch, torchvision\n",
    "import torchvision.transforms.functional as fn\n",
    "torch.manual_seed(0)\n",
    "\n",
    "import os\n",
    "import numpy as np\n",
    "import matplotlib.pyplot as plt"
   ]
  },
  {
   "cell_type": "code",
   "execution_count": 2,
   "metadata": {},
   "outputs": [],
   "source": [
    "#Update os\n",
    "path = \"/home/kishen/documents/python_projects/dogs_v_cats/\"\n",
    "os.chdir(path)\n",
    "from src.dataset import ImageDataset"
   ]
  },
  {
   "cell_type": "markdown",
   "metadata": {},
   "source": [
    "Preprocessing"
   ]
  },
  {
   "cell_type": "code",
   "execution_count": 3,
   "metadata": {},
   "outputs": [],
   "source": [
    "#Create labels: cats=0, dogs=1\n",
    "labels = np.zeros(25_000)\n",
    "labels[12_500:] =  1"
   ]
  },
  {
   "cell_type": "code",
   "execution_count": 4,
   "metadata": {},
   "outputs": [],
   "source": [
    "#create augmentations for ImageDataset\n",
    "path = \"/home/kishen/documents/python_projects/dogs_v_cats/\"\n",
    "os.chdir(path)\n",
    "from src.dataset import ImageDataset\n",
    "\n",
    "transformations = torch.nn.Sequential(\n",
    "        torchvision.transforms.Resize((300,300)),\n",
    "        torchvision.transforms.RandomPerspective(p=.25),\n",
    "        torchvision.transforms.RandomHorizontalFlip(p=.25)\n",
    "\n",
    ")\n",
    "\n",
    "#Build training dataset\n",
    "training_data = ImageDataset(image_paths= \"/home/kishen/documents/python_projects/dogs_v_cats/data/train/\",\n",
    "                            targets=labels,\n",
    "                            augmentations= transformations)\n",
    "\n"
   ]
  },
  {
   "cell_type": "code",
   "execution_count": 5,
   "metadata": {},
   "outputs": [],
   "source": [
    "from torch.utils.data import DataLoader\n",
    "\n",
    "loader_params = {\"batch_size\": 16,\n",
    "                 \"shuffle\": True,\n",
    "                 \"num_workers\": 16}\n",
    "train_loader = DataLoader(training_data, **loader_params)"
   ]
  },
  {
   "cell_type": "markdown",
   "metadata": {},
   "source": [
    "**Training**"
   ]
  },
  {
   "cell_type": "code",
   "execution_count": 6,
   "metadata": {},
   "outputs": [
    {
     "name": "stdout",
     "output_type": "stream",
     "text": [
      "cuda\n"
     ]
    }
   ],
   "source": [
    "#set hyperparameters\n",
    "epochs = 5\n",
    "criterion = torch.nn.BCEWithLogitsLoss()\n",
    "model_params={'lr':.0001,\n",
    "             'momentum':.9}\n",
    "\n",
    "#init model and optimizer\n",
    "from src.models import ConvNet\n",
    "\n",
    "model = ConvNet()\n",
    "optimizer = torch.optim.SGD(model.parameters(), **model_params)\n",
    "\n",
    "#move model to gpu\n",
    "device = torch.device('cuda' if torch.cuda.is_available() else 'cpu')\n",
    "model = model.to(device)\n",
    "print(device)"
   ]
  },
  {
   "cell_type": "code",
   "execution_count": 9,
   "metadata": {},
   "outputs": [
    {
     "name": "stdout",
     "output_type": "stream",
     "text": [
      "Epoch 1: 0.0053\n",
      "Epoch 1: 0.6634\n",
      "Epoch 1: 0.6045\n",
      "Epoch 1: 0.597\n",
      "Epoch 2: 0.0008\n",
      "Epoch 2: 0.5786\n",
      "Epoch 2: 0.5622\n",
      "Epoch 2: 0.5433\n",
      "Epoch 3: 0.0012\n",
      "Epoch 3: 0.519\n",
      "Epoch 3: 0.5116\n",
      "Epoch 3: 0.514\n",
      "Epoch 4: 0.0009\n",
      "Epoch 4: 0.486\n",
      "Epoch 4: 0.4789\n",
      "Epoch 4: 0.4676\n",
      "Epoch 5: 0.0008\n",
      "Epoch 5: 0.4411\n",
      "Epoch 5: 0.4436\n",
      "Epoch 5: 0.4356\n"
     ]
    }
   ],
   "source": [
    "epoch_loss = []\n",
    "for epoch in range(epochs):\n",
    "    running_loss = 0\n",
    "\n",
    "    for i, data in enumerate(train_loader):\n",
    "        \n",
    "        #move data to gpu\n",
    "        inputs, labels = data['image'], data['target']\n",
    "        inputs, labels = inputs.to(device), labels.float().to(device)\n",
    "\n",
    "        #zero gradients\n",
    "        optimizer.zero_grad() \n",
    "\n",
    "        #model computations\n",
    "        preds = model(inputs.type(torch.cuda.FloatTensor))\n",
    "\n",
    "        loss = criterion((preds), labels.unsqueeze(1))\n",
    "\n",
    "        \n",
    "        loss.backward()\n",
    "        optimizer.step()\n",
    "\n",
    "        running_loss += loss.item()\n",
    "    epoch_loss.append(running_loss / i)\n",
    "print(\"Training complete!\")\n",
    "\n"
   ]
  },
  {
   "cell_type": "code",
   "execution_count": null,
   "metadata": {},
   "outputs": [
    {
     "name": "stdout",
     "output_type": "stream",
     "text": [
      "tensor([1., 0., 0., 1., 0., 0., 1., 0.], device='cuda:0')\n"
     ]
    }
   ],
   "source": [
    "print(labels)"
   ]
  },
  {
   "cell_type": "code",
   "execution_count": null,
   "metadata": {},
   "outputs": [],
   "source": []
  }
 ],
 "metadata": {
  "kernelspec": {
   "display_name": "cv",
   "language": "python",
   "name": "cv"
  },
  "language_info": {
   "codemirror_mode": {
    "name": "ipython",
    "version": 3
   },
   "file_extension": ".py",
   "mimetype": "text/x-python",
   "name": "python",
   "nbconvert_exporter": "python",
   "pygments_lexer": "ipython3",
   "version": "3.8.14"
  },
  "orig_nbformat": 4,
  "vscode": {
   "interpreter": {
    "hash": "e26c8e411e9c24f4c2a054715126f335a0d374fc39abfecb34f8fd15f5faca07"
   }
  }
 },
 "nbformat": 4,
 "nbformat_minor": 2
}
