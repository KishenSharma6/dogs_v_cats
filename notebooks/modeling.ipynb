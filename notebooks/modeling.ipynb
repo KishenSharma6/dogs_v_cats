{
 "cells": [
  {
   "cell_type": "code",
   "execution_count": 1,
   "metadata": {},
   "outputs": [],
   "source": [
    "import torch, torchvision\n",
    "import torchvision.transforms.functional as fn\n",
    "torch.manual_seed(0)\n",
    "\n",
    "import os\n",
    "import numpy as np\n",
    "import matplotlib.pyplot as plt\n",
    "import sklearn"
   ]
  },
  {
   "cell_type": "code",
   "execution_count": 2,
   "metadata": {},
   "outputs": [],
   "source": [
    "#Update os\n",
    "path = \"/home/kishen/documents/python_projects/dogs_v_cats/\"\n",
    "os.chdir(path)\n",
    "from src.dataset import ImageDataset"
   ]
  },
  {
   "cell_type": "markdown",
   "metadata": {},
   "source": [
    "Preprocessing"
   ]
  },
  {
   "cell_type": "code",
   "execution_count": 3,
   "metadata": {},
   "outputs": [],
   "source": [
    "#Create labels: cats=0, dogs=1\n",
    "labels = np.zeros(25_000)\n",
    "labels[12_500:] =  1"
   ]
  },
  {
   "cell_type": "code",
   "execution_count": 4,
   "metadata": {},
   "outputs": [],
   "source": [
    "#create augmentations for ImageDataset\n",
    "path = \"/home/kishen/documents/python_projects/dogs_v_cats/\"\n",
    "os.chdir(path)\n",
    "from src.dataset import ImageDataset\n",
    "\n",
    "transformations = torch.nn.Sequential(\n",
    "        torchvision.transforms.Resize((300,300)),\n",
    "        torchvision.transforms.RandomPerspective(p=.25),\n",
    "        torchvision.transforms.RandomHorizontalFlip(p=.25)\n",
    "\n",
    ")\n",
    "\n",
    "#Build training dataset\n",
    "training_data = ImageDataset(image_paths= \"/home/kishen/documents/python_projects/dogs_v_cats/data/train/\",\n",
    "                            targets=labels,\n",
    "                            augmentations= transformations)\n",
    "\n"
   ]
  },
  {
   "cell_type": "code",
   "execution_count": 5,
   "metadata": {},
   "outputs": [],
   "source": [
    "from torch.utils.data import DataLoader\n",
    "\n",
    "loader_params = {\"batch_size\": 16,\n",
    "                 \"shuffle\": True,\n",
    "                 \"num_workers\": 16}\n",
    "train_loader = DataLoader(training_data, **loader_params)"
   ]
  },
  {
   "cell_type": "markdown",
   "metadata": {},
   "source": [
    "**Training**"
   ]
  },
  {
   "cell_type": "code",
   "execution_count": 6,
   "metadata": {},
   "outputs": [
    {
     "name": "stdout",
     "output_type": "stream",
     "text": [
      "True\n"
     ]
    }
   ],
   "source": [
    "print(torch.cuda.is_available())\n"
   ]
  },
  {
   "cell_type": "code",
   "execution_count": 7,
   "metadata": {},
   "outputs": [
    {
     "name": "stdout",
     "output_type": "stream",
     "text": [
      "cuda\n"
     ]
    }
   ],
   "source": [
    "#set hyperparameters\n",
    "epochs = 20\n",
    "criterion = torch.nn.BCEWithLogitsLoss()\n",
    "model_params={'lr':.0001,\n",
    "             'momentum':.9}\n",
    "\n",
    "#init model and optimizer\n",
    "from src.models import ConvNet\n",
    "\n",
    "model = ConvNet()\n",
    "optimizer = torch.optim.SGD(model.parameters(), **model_params)\n",
    "\n",
    "#move model to gpu\n",
    "device = torch.device('cuda' if torch.cuda.is_available() else 'cpu')\n",
    "model = model.to(device)\n",
    "print(device)"
   ]
  },
  {
   "cell_type": "code",
   "execution_count": 8,
   "metadata": {},
   "outputs": [
    {
     "name": "stdout",
     "output_type": "stream",
     "text": [
      "Loss for epoch1: 0.623\n",
      "Accuracy for epoch1: 0.507585\n",
      "Loss for epoch2: 0.555\n",
      "Accuracy for epoch2: 0.512375\n",
      "Loss for epoch3: 0.517\n",
      "Accuracy for epoch3: 0.51471\n",
      "Loss for epoch4: 0.477\n",
      "Accuracy for epoch4: 0.51509\n",
      "Loss for epoch5: 0.438\n",
      "Accuracy for epoch5: 0.51749\n",
      "Loss for epoch6: 0.404\n",
      "Accuracy for epoch6: 0.519435\n"
     ]
    },
    {
     "ename": "KeyboardInterrupt",
     "evalue": "",
     "output_type": "error",
     "traceback": [
      "\u001b[0;31m---------------------------------------------------------------------------\u001b[0m",
      "\u001b[0;31mKeyboardInterrupt\u001b[0m                         Traceback (most recent call last)",
      "Cell \u001b[0;32mIn [8], line 15\u001b[0m\n\u001b[1;32m     11\u001b[0m \u001b[38;5;28;01mfor\u001b[39;00m i, data \u001b[38;5;129;01min\u001b[39;00m \u001b[38;5;28menumerate\u001b[39m(train_loader):\n\u001b[1;32m     12\u001b[0m     \n\u001b[1;32m     13\u001b[0m     \u001b[38;5;66;03m#move data to gpu\u001b[39;00m\n\u001b[1;32m     14\u001b[0m     inputs, labels \u001b[38;5;241m=\u001b[39m data[\u001b[38;5;124m'\u001b[39m\u001b[38;5;124mimage\u001b[39m\u001b[38;5;124m'\u001b[39m], data[\u001b[38;5;124m'\u001b[39m\u001b[38;5;124mtarget\u001b[39m\u001b[38;5;124m'\u001b[39m]\n\u001b[0;32m---> 15\u001b[0m     inputs, labels \u001b[38;5;241m=\u001b[39m \u001b[43minputs\u001b[49m\u001b[38;5;241;43m.\u001b[39;49m\u001b[43mto\u001b[49m\u001b[43m(\u001b[49m\u001b[43mdevice\u001b[49m\u001b[43m)\u001b[49m, labels\u001b[38;5;241m.\u001b[39mfloat()\u001b[38;5;241m.\u001b[39mto(device)\n\u001b[1;32m     17\u001b[0m     \u001b[38;5;66;03m#zero gradients\u001b[39;00m\n\u001b[1;32m     18\u001b[0m     optimizer\u001b[38;5;241m.\u001b[39mzero_grad() \n",
      "\u001b[0;31mKeyboardInterrupt\u001b[0m: "
     ]
    }
   ],
   "source": [
    "from sklearn.metrics import accuracy_score\n",
    "def accuracy(preds, labels):\n",
    "    preds = preds > 0.5\n",
    "    return (labels == preds).sum().item() / labels.size(0)\n",
    "\n",
    "epoch_loss = [0] * epochs\n",
    "epoch_acc = [0] * epochs\n",
    "for epoch in range(epochs):\n",
    "    running_loss = 0.00\n",
    "    correct = 0.00\n",
    "    for i, data in enumerate(train_loader):\n",
    "        \n",
    "        #move data to gpu\n",
    "        inputs, labels = data['image'], data['target']\n",
    "        inputs, labels = inputs.to(device), labels.float().to(device)\n",
    "\n",
    "        #zero gradients\n",
    "        optimizer.zero_grad() \n",
    "\n",
    "        #model computations\n",
    "        preds = model(inputs.type(torch.cuda.FloatTensor))\n",
    "        loss = criterion(preds, labels.unsqueeze(1))\n",
    "        \n",
    "        loss.backward()\n",
    "        optimizer.step()\n",
    "\n",
    "        running_loss += loss.item()\n",
    "        correct += accuracy(preds, labels)\n",
    "    \n",
    "    epoch_loss[epoch] = (running_loss / i) #i is the num_batches in epoch\n",
    "    epoch_acc[epoch] = (correct/len(training_data))\n",
    "\n",
    "    print(\"Loss for epoch%s: %s\" % (str(epoch + 1), str(round(epoch_loss[epoch],3))))\n",
    "    print(\"Accuracy for epoch%s: %s%\" % (str(epoch + 1), str(epoch_acc[epoch] * 100)))\n",
    "print(\"Training complete!\")\n",
    "\n"
   ]
  },
  {
   "cell_type": "code",
   "execution_count": null,
   "metadata": {},
   "outputs": [
    {
     "name": "stdout",
     "output_type": "stream",
     "text": [
      "[tensor(0., device='cuda:0')]\n",
      "[0.3304324869004468]\n"
     ]
    }
   ],
   "source": [
    "#f, ax = plt.subplots(figsize = (10,10))\n",
    "print(epoch_acc)\n",
    "print(epoch_loss)"
   ]
  },
  {
   "cell_type": "code",
   "execution_count": null,
   "metadata": {},
   "outputs": [
    {
     "data": {
      "text/plain": [
       "tensor(3)"
      ]
     },
     "execution_count": 26,
     "metadata": {},
     "output_type": "execute_result"
    }
   ],
   "source": [
    "y = torch.tensor([0,0,0,1,1,1])\n",
    "y_hat = torch.tensor([1,1,1,1,1,1])\n",
    "\n",
    "correct = torch.sum(y== y_hat) #/ len(y)\n",
    "correct\n"
   ]
  },
  {
   "cell_type": "code",
   "execution_count": null,
   "metadata": {},
   "outputs": [],
   "source": []
  }
 ],
 "metadata": {
  "kernelspec": {
   "display_name": "Python 3.8.14 ('cv')",
   "language": "python",
   "name": "python3"
  },
  "language_info": {
   "codemirror_mode": {
    "name": "ipython",
    "version": 3
   },
   "file_extension": ".py",
   "mimetype": "text/x-python",
   "name": "python",
   "nbconvert_exporter": "python",
   "pygments_lexer": "ipython3",
   "version": "3.8.14"
  },
  "orig_nbformat": 4,
  "vscode": {
   "interpreter": {
    "hash": "0efdc9225cbb9bc96da72a1f23582fb63f6516792b5242a2ab181a77bdbb4a26"
   }
  }
 },
 "nbformat": 4,
 "nbformat_minor": 2
}
