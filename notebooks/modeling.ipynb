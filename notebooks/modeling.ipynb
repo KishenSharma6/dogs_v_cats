{
 "cells": [
  {
   "cell_type": "code",
   "execution_count": 1,
   "metadata": {},
   "outputs": [],
   "source": [
    "import torch, torchvision\n",
    "import torchvision.transforms.functional as fn\n",
    "torch.manual_seed(0)\n",
    "\n",
    "import os\n",
    "import numpy as np\n",
    "import matplotlib.pyplot as plt\n",
    "import sklearn"
   ]
  },
  {
   "cell_type": "code",
   "execution_count": 2,
   "metadata": {},
   "outputs": [],
   "source": [
    "#Update os\n",
    "path = \"/home/kishen/documents/python_projects/dogs_v_cats/\"\n",
    "os.chdir(path)\n",
    "from src.dataset import ImageDataset"
   ]
  },
  {
   "cell_type": "markdown",
   "metadata": {},
   "source": [
    "Preprocessing"
   ]
  },
  {
   "cell_type": "code",
   "execution_count": 3,
   "metadata": {},
   "outputs": [],
   "source": [
    "#Create labels: cats=0, dogs=1\n",
    "labels = np.zeros(25_000)\n",
    "labels[12_500:] =  1"
   ]
  },
  {
   "cell_type": "code",
   "execution_count": 4,
   "metadata": {},
   "outputs": [],
   "source": [
    "#create augmentations for ImageDataset\n",
    "path = \"/home/kishen/documents/python_projects/dogs_v_cats/\"\n",
    "os.chdir(path)\n",
    "from src.dataset import ImageDataset\n",
    "\n",
    "#Calculated values for entire train/\n",
    "mean = torch.tensor([124.5185, 116.0429, 106.3195], dtype=torch.float64)\n",
    "std =  torch.tensor([58.0110, 56.8624, 56.9116], dtype=torch.float64)\n",
    "\n",
    "#Standardize and zero center data\n",
    "transformations = torch.nn.Sequential(\n",
    "        torchvision.transforms.Resize((128,128)),\n",
    "        torchvision.transforms.Normalize(mean= mean, std=std)\n",
    "\n",
    ")\n",
    "\n",
    "#Build training dataset\n",
    "training_data = ImageDataset(image_paths= path + \"data/train/\",\n",
    "                            targets=labels,\n",
    "                            augmentations=transformations)\n",
    "\n",
    "\n"
   ]
  },
  {
   "cell_type": "code",
   "execution_count": 5,
   "metadata": {},
   "outputs": [
    {
     "data": {
      "text/plain": [
       "tensor(False)"
      ]
     },
     "execution_count": 5,
     "metadata": {},
     "output_type": "execute_result"
    }
   ],
   "source": [
    "training_data.__getitem__(5)['target'] == torch.tensor(0.1)"
   ]
  },
  {
   "cell_type": "code",
   "execution_count": 6,
   "metadata": {},
   "outputs": [],
   "source": [
    "# #calcualte mean and std from trainig dataset\n",
    "# from src.dataset import calculate_img_mean, calculate_img_std\n",
    "\n",
    "# mean = calculate_img_mean(training_data)\n",
    "# std = calculate_img_std(training_data)"
   ]
  },
  {
   "cell_type": "code",
   "execution_count": 7,
   "metadata": {},
   "outputs": [],
   "source": [
    "#create dataloader for training data\n",
    "from torch.utils.data import DataLoader\n",
    "\n",
    "loader_params = {\"batch_size\": 64,\n",
    "                 \"shuffle\": True,\n",
    "                 \"num_workers\": 16}\n",
    "                 \n",
    "train_loader = DataLoader(training_data, **loader_params)"
   ]
  },
  {
   "cell_type": "markdown",
   "metadata": {},
   "source": [
    "**Training - BaseConvNet**"
   ]
  },
  {
   "cell_type": "code",
   "execution_count": 8,
   "metadata": {},
   "outputs": [
    {
     "data": {
      "text/plain": [
       "391"
      ]
     },
     "execution_count": 8,
     "metadata": {},
     "output_type": "execute_result"
    }
   ],
   "source": [
    "len(train_loader)"
   ]
  },
  {
   "cell_type": "code",
   "execution_count": null,
   "metadata": {},
   "outputs": [],
   "source": []
  },
  {
   "cell_type": "code",
   "execution_count": 9,
   "metadata": {},
   "outputs": [
    {
     "name": "stdout",
     "output_type": "stream",
     "text": [
      "cuda\n"
     ]
    }
   ],
   "source": [
    "#init model and optimizer\n",
    "from src.models import BaseConvNet, train, accuracy\n",
    "\n",
    "model = BaseConvNet()\n",
    "\n",
    "#check that cuda is available\n",
    "device = torch.device('cuda' if torch.cuda.is_available() else 'cpu')\n",
    "print(device)\n",
    "\n",
    "#set train params\n",
    "train_params = {'model': model, \n",
    "                'train_set':training_data,\n",
    "                'loader': train_loader, \n",
    "                'epochs': 10, \n",
    "                'criterion': torch.nn.BCEWithLogitsLoss(),\n",
    "                'optimizer': torch.optim.SGD(model.parameters(), \n",
    "                                            lr= 1e-3, \n",
    "                                            momentum=0.9,\n",
    "                                            #weight_decay = .2\n",
    "                                            )}\n",
    "\n"
   ]
  },
  {
   "cell_type": "code",
   "execution_count": 10,
   "metadata": {},
   "outputs": [
    {
     "name": "stdout",
     "output_type": "stream",
     "text": [
      "12455.36875\n",
      "Loss for Epoch 1: 26.872\n",
      "Accuracy: 49.821475\n",
      "12502.45625\n",
      "Loss for Epoch 2: 0.691\n",
      "Accuracy: 50.009825\n",
      "12510.875\n",
      "Loss for Epoch 3: 0.714\n",
      "Accuracy: 50.0435\n",
      "12504.46875\n",
      "Loss for Epoch 4: 0.692\n",
      "Accuracy: 50.017875\n",
      "12502.5\n",
      "Loss for Epoch 5: 0.695\n",
      "Accuracy: 50.01\n",
      "12500.0\n",
      "Loss for Epoch 6: 0.695\n",
      "Accuracy: 50.0\n",
      "12500.0\n",
      "Loss for Epoch 7: 0.695\n",
      "Accuracy: 50.0\n",
      "12500.0\n",
      "Loss for Epoch 8: 0.695\n",
      "Accuracy: 50.0\n",
      "12500.0\n",
      "Loss for Epoch 9: 0.695\n",
      "Accuracy: 50.0\n",
      "12500.0\n",
      "Loss for Epoch 10: 0.695\n",
      "Accuracy: 50.0\n",
      "Training complete!\n"
     ]
    }
   ],
   "source": [
    "epochs = 10\n",
    "model = BaseConvNet()\n",
    "model.to(device)\n",
    "optimizer= torch.optim.Adam(model.parameters(), \n",
    "                                            lr= 1e-3, \n",
    "                                            )\n",
    "criterion= torch.nn.BCEWithLogitsLoss()\n",
    "epoch_loss = [0] * epochs\n",
    "epoch_acc = [0] * epochs\n",
    "\n",
    "for epoch in range(epochs):\n",
    "    running_loss = 0.00\n",
    "    correct = 0.00\n",
    "\n",
    "    for i, data in enumerate(train_loader):\n",
    "        #move data to gpu\n",
    "        inputs, labels = data['image'], data['target']\n",
    "        #print(inputs)\n",
    "       \n",
    "        inputs, labels = inputs.to(device), labels.float().to(device)\n",
    "        #zero gradients\n",
    "        optimizer.zero_grad() \n",
    "        #model computations\n",
    "        preds = model(inputs.type(torch.cuda.FloatTensor))\n",
    "        \n",
    "        loss = criterion(preds, labels.unsqueeze(1))\n",
    "        loss.backward()\n",
    "        optimizer.step()\n",
    "        running_loss += loss.item()\n",
    "        correct += accuracy(preds, labels)\n",
    "        \n",
    "        \n",
    "    print(correct)\n",
    "    \n",
    "    epoch_loss[epoch] = (running_loss / i) #i is the num_batches in epoch\n",
    "    epoch_acc[epoch] = 100 * correct / 25_000\n",
    "    print(\"Loss for Epoch %s: %s\\nAccuracy: %s\" % (str(epoch + 1), str(round(epoch_loss[epoch],3)),str(epoch_acc[epoch])))\n",
    "\n",
    "print(\"Training complete!\")"
   ]
  },
  {
   "cell_type": "code",
   "execution_count": 11,
   "metadata": {},
   "outputs": [],
   "source": [
    "# loss, acc = train(**train_params)\n",
    "# #https://www.binarystudy.com/2022/04/how-to-normalize-image-dataset-inpytorch.html"
   ]
  },
  {
   "cell_type": "code",
   "execution_count": 12,
   "metadata": {},
   "outputs": [
    {
     "ename": "NameError",
     "evalue": "name 'acc' is not defined",
     "output_type": "error",
     "traceback": [
      "\u001b[0;31m---------------------------------------------------------------------------\u001b[0m",
      "\u001b[0;31mNameError\u001b[0m                                 Traceback (most recent call last)",
      "Cell \u001b[0;32mIn [12], line 6\u001b[0m\n\u001b[1;32m      2\u001b[0m \u001b[38;5;28;01mfrom\u001b[39;00m \u001b[38;5;21;01msrc\u001b[39;00m\u001b[38;5;21;01m.\u001b[39;00m\u001b[38;5;21;01mmodels\u001b[39;00m \u001b[38;5;28;01mimport\u001b[39;00m plot_loss, plot_acc\n\u001b[1;32m      4\u001b[0m f, ax \u001b[38;5;241m=\u001b[39m plt\u001b[38;5;241m.\u001b[39msubplots(\u001b[38;5;241m1\u001b[39m, \u001b[38;5;241m2\u001b[39m,figsize \u001b[38;5;241m=\u001b[39m (\u001b[38;5;241m14\u001b[39m,\u001b[38;5;241m5\u001b[39m))\n\u001b[0;32m----> 6\u001b[0m plot_acc(\u001b[43macc\u001b[49m, ax[\u001b[38;5;241m0\u001b[39m])\n\u001b[1;32m      7\u001b[0m plot_loss(loss, ax[\u001b[38;5;241m1\u001b[39m])\n",
      "\u001b[0;31mNameError\u001b[0m: name 'acc' is not defined"
     ]
    },
    {
     "data": {
      "image/png": "[encoded data removed]",
      "text/plain": [
       "<Figure size 1400x500 with 2 Axes>"
      ]
     },
     "metadata": {},
     "output_type": "display_data"
    }
   ],
   "source": [
    "#plot loss and acc\n",
    "from src.models import plot_loss, plot_acc\n",
    "\n",
    "f, ax = plt.subplots(1, 2,figsize = (14,5))\n",
    "\n",
    "plot_acc(acc, ax[0])\n",
    "plot_loss(loss, ax[1])"
   ]
  },
  {
   "cell_type": "code",
   "execution_count": null,
   "metadata": {},
   "outputs": [],
   "source": [
    "# torch.save(model.state_dict(), \"/home/kishen/documents/python_projects/dogs_v_cats/models/base_conv_model\")"
   ]
  },
  {
   "cell_type": "code",
   "execution_count": null,
   "metadata": {},
   "outputs": [],
   "source": []
  }
 ],
 "metadata": {
  "kernelspec": {
   "display_name": "Python 3.8.14 ('cv')",
   "language": "python",
   "name": "python3"
  },
  "language_info": {
   "codemirror_mode": {
    "name": "ipython",
    "version": 3
   },
   "file_extension": ".py",
   "mimetype": "text/x-python",
   "name": "python",
   "nbconvert_exporter": "python",
   "pygments_lexer": "ipython3",
   "version": "3.8.14"
  },
  "orig_nbformat": 4,
  "vscode": {
   "interpreter": {
    "hash": "0efdc9225cbb9bc96da72a1f23582fb63f6516792b5242a2ab181a77bdbb4a26"
   }
  }
 },
 "nbformat": 4,
 "nbformat_minor": 2
}
