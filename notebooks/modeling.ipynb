{
 "cells": [
  {
   "cell_type": "code",
   "execution_count": 1,
   "metadata": {},
   "outputs": [],
   "source": [
    "import torch, torchvision\n",
    "import torchvision.transforms.functional as fn\n",
    "torch.manual_seed(0)\n",
    "\n",
    "import os\n",
    "import numpy as np\n",
    "import matplotlib.pyplot as plt\n",
    "import sklearn"
   ]
  },
  {
   "cell_type": "code",
   "execution_count": 2,
   "metadata": {},
   "outputs": [],
   "source": [
    "#Update os\n",
    "path = \"/home/kishen/documents/python_projects/dogs_v_cats/\"\n",
    "os.chdir(path)\n",
    "from src.dataset import ImageDataset"
   ]
  },
  {
   "cell_type": "markdown",
   "metadata": {},
   "source": [
    "Preprocessing"
   ]
  },
  {
   "cell_type": "code",
   "execution_count": 3,
   "metadata": {},
   "outputs": [],
   "source": [
    "#Create labels: cats=0, dogs=1\n",
    "labels = np.zeros(25_000)\n",
    "labels[12_500:] =  1"
   ]
  },
  {
   "cell_type": "code",
   "execution_count": 4,
   "metadata": {},
   "outputs": [],
   "source": [
    "#create augmentations for ImageDataset\n",
    "path = \"/home/kishen/documents/python_projects/dogs_v_cats/\"\n",
    "os.chdir(path)\n",
    "from src.dataset import ImageDataset\n",
    "\n",
    "transformations = torch.nn.Sequential(\n",
    "        torchvision.transforms.Resize((224,224)),\n",
    "        torchvision.transforms.RandomPerspective(p=.25),\n",
    "        torchvision.transforms.RandomHorizontalFlip(p=.25)\n",
    "\n",
    ")\n",
    "\n",
    "#Build training dataset\n",
    "training_data = ImageDataset(image_paths= \"/home/kishen/documents/python_projects/dogs_v_cats/data/train/\",\n",
    "                            targets=labels,\n",
    "                            augmentations= transformations)\n",
    "\n"
   ]
  },
  {
   "cell_type": "code",
   "execution_count": 5,
   "metadata": {},
   "outputs": [],
   "source": [
    "#create dataloader for training data\n",
    "from torch.utils.data import DataLoader\n",
    "\n",
    "loader_params = {\"batch_size\": 16,\n",
    "                 \"shuffle\": True,\n",
    "                 \"num_workers\": 16}\n",
    "                 \n",
    "train_loader = DataLoader(training_data, **loader_params)"
   ]
  },
  {
   "cell_type": "markdown",
   "metadata": {},
   "source": [
    "**Training - BaseConvNet**"
   ]
  },
  {
   "cell_type": "code",
   "execution_count": 6,
   "metadata": {},
   "outputs": [
    {
     "name": "stdout",
     "output_type": "stream",
     "text": [
      "cuda\n"
     ]
    }
   ],
   "source": [
    "#init model and optimizer\n",
    "from src.models import BaseConvNet, train, accuracy\n",
    "\n",
    "model = BaseConvNet()\n",
    "\n",
    "optimizer_params={'lr':.0001,\n",
    "             'momentum':.9}\n",
    "\n",
    "optimizer = torch.optim.SGD(model.parameters(), **optimizer_params)\n",
    "\n",
    "#move model to gpu\n",
    "device = torch.device('cuda' if torch.cuda.is_available() else 'cpu')\n",
    "model = model.to(device)\n",
    "print(device)\n",
    "\n",
    "#set train params\n",
    "train_params = {\n",
    "'model': model,\n",
    "'loader' : train_loader, \n",
    "'epochs': 20, \n",
    "'criterion':torch.nn.BCEWithLogitsLoss(), \n",
    "'optimizer': optimizer\n",
    "}\n",
    "\n"
   ]
  },
  {
   "cell_type": "code",
   "execution_count": 7,
   "metadata": {},
   "outputs": [],
   "source": [
    "# train(**train_params)"
   ]
  },
  {
   "cell_type": "code",
   "execution_count": 8,
   "metadata": {},
   "outputs": [],
   "source": [
    "# torch.save(model.state_dict(), \"/home/kishen/documents/python_projects/dogs_v_cats/models/base_model\")"
   ]
  },
  {
   "cell_type": "markdown",
   "metadata": {},
   "source": [
    "Revisit base model and update padding, kernel, stride, etc. to better maintain image volume"
   ]
  },
  {
   "cell_type": "markdown",
   "metadata": {},
   "source": [
    "**Training - ConvNet2_0**"
   ]
  },
  {
   "cell_type": "code",
   "execution_count": 9,
   "metadata": {},
   "outputs": [],
   "source": [
    "#init ConvNet1_0\n",
    "from src.models import ConvNet1_0\n",
    "\n",
    "model2 = ConvNet1_0()\n",
    "model2.to(device)\n",
    "print(device)\n",
    "\n",
    "#set train params\n",
    "train_params2 = {\n",
    "'model': model2,\n",
    "'loader' : train_loader, \n",
    "'epochs': 20, \n",
    "'criterion':torch.nn.BCEWithLogitsLoss(), \n",
    "'optimizer': optimizer\n",
    "}"
   ]
  },
  {
   "cell_type": "code",
   "execution_count": null,
   "metadata": {},
   "outputs": [],
   "source": [
    "train(**train_params2)"
   ]
  },
  {
   "cell_type": "code",
   "execution_count": null,
   "metadata": {},
   "outputs": [],
   "source": []
  }
 ],
 "metadata": {
  "kernelspec": {
   "display_name": "Python 3.8.14 ('cv')",
   "language": "python",
   "name": "python3"
  },
  "language_info": {
   "codemirror_mode": {
    "name": "ipython",
    "version": 3
   },
   "file_extension": ".py",
   "mimetype": "text/x-python",
   "name": "python",
   "nbconvert_exporter": "python",
   "pygments_lexer": "ipython3",
   "version": "3.8.14"
  },
  "orig_nbformat": 4,
  "vscode": {
   "interpreter": {
    "hash": "0efdc9225cbb9bc96da72a1f23582fb63f6516792b5242a2ab181a77bdbb4a26"
   }
  }
 },
 "nbformat": 4,
 "nbformat_minor": 2
}
